{
  "nbformat": 4,
  "nbformat_minor": 0,
  "metadata": {
    "colab": {
      "provenance": [],
      "collapsed_sections": [
        "rnTGrJwQ6vj9"
      ],
      "include_colab_link": true
    },
    "kernelspec": {
      "name": "python3",
      "display_name": "Python 3"
    },
    "language_info": {
      "name": "python"
    }
  },
  "cells": [
    {
      "cell_type": "markdown",
      "metadata": {
        "id": "view-in-github",
        "colab_type": "text"
      },
      "source": [
        "<a href=\"https://colab.research.google.com/github/Sam-bordelon/CSC467FinalProject/blob/main/CSC467ProjectF.ipynb\" target=\"_parent\"><img src=\"https://colab.research.google.com/assets/colab-badge.svg\" alt=\"Open In Colab\"/></a>"
      ]
    },
    {
      "cell_type": "markdown",
      "source": [
        "# Data Preprocessing"
      ],
      "metadata": {
        "id": "IXrZ3K8Y_7ge"
      }
    },
    {
      "cell_type": "code",
      "execution_count": null,
      "metadata": {
        "id": "iuY9gflb4lga"
      },
      "outputs": [],
      "source": [
        "import numpy as np\n",
        "import pandas as pd\n",
        "from sklearn.preprocessing import StandardScaler\n",
        "from sklearn.model_selection import train_test_split , GridSearchCV\n",
        "import matplotlib.pyplot as plt\n",
        "%matplotlib inline\n",
        "from sklearn import metrics"
      ]
    },
    {
      "cell_type": "code",
      "source": [
        "pd_data = pd.read_csv('parkinsons.csv')\n",
        "pd_data.head()"
      ],
      "metadata": {
        "colab": {
          "base_uri": "https://localhost:8080/",
          "height": 255
        },
        "id": "pM-GxdOK5YuR",
        "outputId": "bc8cf906-25de-4578-c987-350211a93122"
      },
      "execution_count": null,
      "outputs": [
        {
          "output_type": "execute_result",
          "data": {
            "text/plain": [
              "             name  MDVP:Fo(Hz)  MDVP:Fhi(Hz)  MDVP:Flo(Hz)  MDVP:Jitter(%)  \\\n",
              "0  phon_R01_S01_1      119.992       157.302        74.997         0.00784   \n",
              "1  phon_R01_S01_2      122.400       148.650       113.819         0.00968   \n",
              "2  phon_R01_S01_3      116.682       131.111       111.555         0.01050   \n",
              "3  phon_R01_S01_4      116.676       137.871       111.366         0.00997   \n",
              "4  phon_R01_S01_5      116.014       141.781       110.655         0.01284   \n",
              "\n",
              "   MDVP:Jitter(Abs)  MDVP:RAP  MDVP:PPQ  Jitter:DDP  MDVP:Shimmer  ...  \\\n",
              "0           0.00007   0.00370   0.00554     0.01109       0.04374  ...   \n",
              "1           0.00008   0.00465   0.00696     0.01394       0.06134  ...   \n",
              "2           0.00009   0.00544   0.00781     0.01633       0.05233  ...   \n",
              "3           0.00009   0.00502   0.00698     0.01505       0.05492  ...   \n",
              "4           0.00011   0.00655   0.00908     0.01966       0.06425  ...   \n",
              "\n",
              "   Shimmer:DDA      NHR     HNR  status      RPDE       DFA   spread1  \\\n",
              "0      0.06545  0.02211  21.033       1  0.414783  0.815285 -4.813031   \n",
              "1      0.09403  0.01929  19.085       1  0.458359  0.819521 -4.075192   \n",
              "2      0.08270  0.01309  20.651       1  0.429895  0.825288 -4.443179   \n",
              "3      0.08771  0.01353  20.644       1  0.434969  0.819235 -4.117501   \n",
              "4      0.10470  0.01767  19.649       1  0.417356  0.823484 -3.747787   \n",
              "\n",
              "    spread2        D2       PPE  \n",
              "0  0.266482  2.301442  0.284654  \n",
              "1  0.335590  2.486855  0.368674  \n",
              "2  0.311173  2.342259  0.332634  \n",
              "3  0.334147  2.405554  0.368975  \n",
              "4  0.234513  2.332180  0.410335  \n",
              "\n",
              "[5 rows x 24 columns]"
            ],
            "text/html": [
              "\n",
              "  <div id=\"df-cb9afeaf-46ff-4963-9130-64e764829c3b\" class=\"colab-df-container\">\n",
              "    <div>\n",
              "<style scoped>\n",
              "    .dataframe tbody tr th:only-of-type {\n",
              "        vertical-align: middle;\n",
              "    }\n",
              "\n",
              "    .dataframe tbody tr th {\n",
              "        vertical-align: top;\n",
              "    }\n",
              "\n",
              "    .dataframe thead th {\n",
              "        text-align: right;\n",
              "    }\n",
              "</style>\n",
              "<table border=\"1\" class=\"dataframe\">\n",
              "  <thead>\n",
              "    <tr style=\"text-align: right;\">\n",
              "      <th></th>\n",
              "      <th>name</th>\n",
              "      <th>MDVP:Fo(Hz)</th>\n",
              "      <th>MDVP:Fhi(Hz)</th>\n",
              "      <th>MDVP:Flo(Hz)</th>\n",
              "      <th>MDVP:Jitter(%)</th>\n",
              "      <th>MDVP:Jitter(Abs)</th>\n",
              "      <th>MDVP:RAP</th>\n",
              "      <th>MDVP:PPQ</th>\n",
              "      <th>Jitter:DDP</th>\n",
              "      <th>MDVP:Shimmer</th>\n",
              "      <th>...</th>\n",
              "      <th>Shimmer:DDA</th>\n",
              "      <th>NHR</th>\n",
              "      <th>HNR</th>\n",
              "      <th>status</th>\n",
              "      <th>RPDE</th>\n",
              "      <th>DFA</th>\n",
              "      <th>spread1</th>\n",
              "      <th>spread2</th>\n",
              "      <th>D2</th>\n",
              "      <th>PPE</th>\n",
              "    </tr>\n",
              "  </thead>\n",
              "  <tbody>\n",
              "    <tr>\n",
              "      <th>0</th>\n",
              "      <td>phon_R01_S01_1</td>\n",
              "      <td>119.992</td>\n",
              "      <td>157.302</td>\n",
              "      <td>74.997</td>\n",
              "      <td>0.00784</td>\n",
              "      <td>0.00007</td>\n",
              "      <td>0.00370</td>\n",
              "      <td>0.00554</td>\n",
              "      <td>0.01109</td>\n",
              "      <td>0.04374</td>\n",
              "      <td>...</td>\n",
              "      <td>0.06545</td>\n",
              "      <td>0.02211</td>\n",
              "      <td>21.033</td>\n",
              "      <td>1</td>\n",
              "      <td>0.414783</td>\n",
              "      <td>0.815285</td>\n",
              "      <td>-4.813031</td>\n",
              "      <td>0.266482</td>\n",
              "      <td>2.301442</td>\n",
              "      <td>0.284654</td>\n",
              "    </tr>\n",
              "    <tr>\n",
              "      <th>1</th>\n",
              "      <td>phon_R01_S01_2</td>\n",
              "      <td>122.400</td>\n",
              "      <td>148.650</td>\n",
              "      <td>113.819</td>\n",
              "      <td>0.00968</td>\n",
              "      <td>0.00008</td>\n",
              "      <td>0.00465</td>\n",
              "      <td>0.00696</td>\n",
              "      <td>0.01394</td>\n",
              "      <td>0.06134</td>\n",
              "      <td>...</td>\n",
              "      <td>0.09403</td>\n",
              "      <td>0.01929</td>\n",
              "      <td>19.085</td>\n",
              "      <td>1</td>\n",
              "      <td>0.458359</td>\n",
              "      <td>0.819521</td>\n",
              "      <td>-4.075192</td>\n",
              "      <td>0.335590</td>\n",
              "      <td>2.486855</td>\n",
              "      <td>0.368674</td>\n",
              "    </tr>\n",
              "    <tr>\n",
              "      <th>2</th>\n",
              "      <td>phon_R01_S01_3</td>\n",
              "      <td>116.682</td>\n",
              "      <td>131.111</td>\n",
              "      <td>111.555</td>\n",
              "      <td>0.01050</td>\n",
              "      <td>0.00009</td>\n",
              "      <td>0.00544</td>\n",
              "      <td>0.00781</td>\n",
              "      <td>0.01633</td>\n",
              "      <td>0.05233</td>\n",
              "      <td>...</td>\n",
              "      <td>0.08270</td>\n",
              "      <td>0.01309</td>\n",
              "      <td>20.651</td>\n",
              "      <td>1</td>\n",
              "      <td>0.429895</td>\n",
              "      <td>0.825288</td>\n",
              "      <td>-4.443179</td>\n",
              "      <td>0.311173</td>\n",
              "      <td>2.342259</td>\n",
              "      <td>0.332634</td>\n",
              "    </tr>\n",
              "    <tr>\n",
              "      <th>3</th>\n",
              "      <td>phon_R01_S01_4</td>\n",
              "      <td>116.676</td>\n",
              "      <td>137.871</td>\n",
              "      <td>111.366</td>\n",
              "      <td>0.00997</td>\n",
              "      <td>0.00009</td>\n",
              "      <td>0.00502</td>\n",
              "      <td>0.00698</td>\n",
              "      <td>0.01505</td>\n",
              "      <td>0.05492</td>\n",
              "      <td>...</td>\n",
              "      <td>0.08771</td>\n",
              "      <td>0.01353</td>\n",
              "      <td>20.644</td>\n",
              "      <td>1</td>\n",
              "      <td>0.434969</td>\n",
              "      <td>0.819235</td>\n",
              "      <td>-4.117501</td>\n",
              "      <td>0.334147</td>\n",
              "      <td>2.405554</td>\n",
              "      <td>0.368975</td>\n",
              "    </tr>\n",
              "    <tr>\n",
              "      <th>4</th>\n",
              "      <td>phon_R01_S01_5</td>\n",
              "      <td>116.014</td>\n",
              "      <td>141.781</td>\n",
              "      <td>110.655</td>\n",
              "      <td>0.01284</td>\n",
              "      <td>0.00011</td>\n",
              "      <td>0.00655</td>\n",
              "      <td>0.00908</td>\n",
              "      <td>0.01966</td>\n",
              "      <td>0.06425</td>\n",
              "      <td>...</td>\n",
              "      <td>0.10470</td>\n",
              "      <td>0.01767</td>\n",
              "      <td>19.649</td>\n",
              "      <td>1</td>\n",
              "      <td>0.417356</td>\n",
              "      <td>0.823484</td>\n",
              "      <td>-3.747787</td>\n",
              "      <td>0.234513</td>\n",
              "      <td>2.332180</td>\n",
              "      <td>0.410335</td>\n",
              "    </tr>\n",
              "  </tbody>\n",
              "</table>\n",
              "<p>5 rows × 24 columns</p>\n",
              "</div>\n",
              "    <div class=\"colab-df-buttons\">\n",
              "\n",
              "  <div class=\"colab-df-container\">\n",
              "    <button class=\"colab-df-convert\" onclick=\"convertToInteractive('df-cb9afeaf-46ff-4963-9130-64e764829c3b')\"\n",
              "            title=\"Convert this dataframe to an interactive table.\"\n",
              "            style=\"display:none;\">\n",
              "\n",
              "  <svg xmlns=\"http://www.w3.org/2000/svg\" height=\"24px\" viewBox=\"0 -960 960 960\">\n",
              "    <path d=\"M120-120v-720h720v720H120Zm60-500h600v-160H180v160Zm220 220h160v-160H400v160Zm0 220h160v-160H400v160ZM180-400h160v-160H180v160Zm440 0h160v-160H620v160ZM180-180h160v-160H180v160Zm440 0h160v-160H620v160Z\"/>\n",
              "  </svg>\n",
              "    </button>\n",
              "\n",
              "  <style>\n",
              "    .colab-df-container {\n",
              "      display:flex;\n",
              "      gap: 12px;\n",
              "    }\n",
              "\n",
              "    .colab-df-convert {\n",
              "      background-color: #E8F0FE;\n",
              "      border: none;\n",
              "      border-radius: 50%;\n",
              "      cursor: pointer;\n",
              "      display: none;\n",
              "      fill: #1967D2;\n",
              "      height: 32px;\n",
              "      padding: 0 0 0 0;\n",
              "      width: 32px;\n",
              "    }\n",
              "\n",
              "    .colab-df-convert:hover {\n",
              "      background-color: #E2EBFA;\n",
              "      box-shadow: 0px 1px 2px rgba(60, 64, 67, 0.3), 0px 1px 3px 1px rgba(60, 64, 67, 0.15);\n",
              "      fill: #174EA6;\n",
              "    }\n",
              "\n",
              "    .colab-df-buttons div {\n",
              "      margin-bottom: 4px;\n",
              "    }\n",
              "\n",
              "    [theme=dark] .colab-df-convert {\n",
              "      background-color: #3B4455;\n",
              "      fill: #D2E3FC;\n",
              "    }\n",
              "\n",
              "    [theme=dark] .colab-df-convert:hover {\n",
              "      background-color: #434B5C;\n",
              "      box-shadow: 0px 1px 3px 1px rgba(0, 0, 0, 0.15);\n",
              "      filter: drop-shadow(0px 1px 2px rgba(0, 0, 0, 0.3));\n",
              "      fill: #FFFFFF;\n",
              "    }\n",
              "  </style>\n",
              "\n",
              "    <script>\n",
              "      const buttonEl =\n",
              "        document.querySelector('#df-cb9afeaf-46ff-4963-9130-64e764829c3b button.colab-df-convert');\n",
              "      buttonEl.style.display =\n",
              "        google.colab.kernel.accessAllowed ? 'block' : 'none';\n",
              "\n",
              "      async function convertToInteractive(key) {\n",
              "        const element = document.querySelector('#df-cb9afeaf-46ff-4963-9130-64e764829c3b');\n",
              "        const dataTable =\n",
              "          await google.colab.kernel.invokeFunction('convertToInteractive',\n",
              "                                                    [key], {});\n",
              "        if (!dataTable) return;\n",
              "\n",
              "        const docLinkHtml = 'Like what you see? Visit the ' +\n",
              "          '<a target=\"_blank\" href=https://colab.research.google.com/notebooks/data_table.ipynb>data table notebook</a>'\n",
              "          + ' to learn more about interactive tables.';\n",
              "        element.innerHTML = '';\n",
              "        dataTable['output_type'] = 'display_data';\n",
              "        await google.colab.output.renderOutput(dataTable, element);\n",
              "        const docLink = document.createElement('div');\n",
              "        docLink.innerHTML = docLinkHtml;\n",
              "        element.appendChild(docLink);\n",
              "      }\n",
              "    </script>\n",
              "  </div>\n",
              "\n",
              "\n",
              "<div id=\"df-303f93e8-813c-4515-9868-9cec38638ec1\">\n",
              "  <button class=\"colab-df-quickchart\" onclick=\"quickchart('df-303f93e8-813c-4515-9868-9cec38638ec1')\"\n",
              "            title=\"Suggest charts\"\n",
              "            style=\"display:none;\">\n",
              "\n",
              "<svg xmlns=\"http://www.w3.org/2000/svg\" height=\"24px\"viewBox=\"0 0 24 24\"\n",
              "     width=\"24px\">\n",
              "    <g>\n",
              "        <path d=\"M19 3H5c-1.1 0-2 .9-2 2v14c0 1.1.9 2 2 2h14c1.1 0 2-.9 2-2V5c0-1.1-.9-2-2-2zM9 17H7v-7h2v7zm4 0h-2V7h2v10zm4 0h-2v-4h2v4z\"/>\n",
              "    </g>\n",
              "</svg>\n",
              "  </button>\n",
              "\n",
              "<style>\n",
              "  .colab-df-quickchart {\n",
              "      --bg-color: #E8F0FE;\n",
              "      --fill-color: #1967D2;\n",
              "      --hover-bg-color: #E2EBFA;\n",
              "      --hover-fill-color: #174EA6;\n",
              "      --disabled-fill-color: #AAA;\n",
              "      --disabled-bg-color: #DDD;\n",
              "  }\n",
              "\n",
              "  [theme=dark] .colab-df-quickchart {\n",
              "      --bg-color: #3B4455;\n",
              "      --fill-color: #D2E3FC;\n",
              "      --hover-bg-color: #434B5C;\n",
              "      --hover-fill-color: #FFFFFF;\n",
              "      --disabled-bg-color: #3B4455;\n",
              "      --disabled-fill-color: #666;\n",
              "  }\n",
              "\n",
              "  .colab-df-quickchart {\n",
              "    background-color: var(--bg-color);\n",
              "    border: none;\n",
              "    border-radius: 50%;\n",
              "    cursor: pointer;\n",
              "    display: none;\n",
              "    fill: var(--fill-color);\n",
              "    height: 32px;\n",
              "    padding: 0;\n",
              "    width: 32px;\n",
              "  }\n",
              "\n",
              "  .colab-df-quickchart:hover {\n",
              "    background-color: var(--hover-bg-color);\n",
              "    box-shadow: 0 1px 2px rgba(60, 64, 67, 0.3), 0 1px 3px 1px rgba(60, 64, 67, 0.15);\n",
              "    fill: var(--button-hover-fill-color);\n",
              "  }\n",
              "\n",
              "  .colab-df-quickchart-complete:disabled,\n",
              "  .colab-df-quickchart-complete:disabled:hover {\n",
              "    background-color: var(--disabled-bg-color);\n",
              "    fill: var(--disabled-fill-color);\n",
              "    box-shadow: none;\n",
              "  }\n",
              "\n",
              "  .colab-df-spinner {\n",
              "    border: 2px solid var(--fill-color);\n",
              "    border-color: transparent;\n",
              "    border-bottom-color: var(--fill-color);\n",
              "    animation:\n",
              "      spin 1s steps(1) infinite;\n",
              "  }\n",
              "\n",
              "  @keyframes spin {\n",
              "    0% {\n",
              "      border-color: transparent;\n",
              "      border-bottom-color: var(--fill-color);\n",
              "      border-left-color: var(--fill-color);\n",
              "    }\n",
              "    20% {\n",
              "      border-color: transparent;\n",
              "      border-left-color: var(--fill-color);\n",
              "      border-top-color: var(--fill-color);\n",
              "    }\n",
              "    30% {\n",
              "      border-color: transparent;\n",
              "      border-left-color: var(--fill-color);\n",
              "      border-top-color: var(--fill-color);\n",
              "      border-right-color: var(--fill-color);\n",
              "    }\n",
              "    40% {\n",
              "      border-color: transparent;\n",
              "      border-right-color: var(--fill-color);\n",
              "      border-top-color: var(--fill-color);\n",
              "    }\n",
              "    60% {\n",
              "      border-color: transparent;\n",
              "      border-right-color: var(--fill-color);\n",
              "    }\n",
              "    80% {\n",
              "      border-color: transparent;\n",
              "      border-right-color: var(--fill-color);\n",
              "      border-bottom-color: var(--fill-color);\n",
              "    }\n",
              "    90% {\n",
              "      border-color: transparent;\n",
              "      border-bottom-color: var(--fill-color);\n",
              "    }\n",
              "  }\n",
              "</style>\n",
              "\n",
              "  <script>\n",
              "    async function quickchart(key) {\n",
              "      const quickchartButtonEl =\n",
              "        document.querySelector('#' + key + ' button');\n",
              "      quickchartButtonEl.disabled = true;  // To prevent multiple clicks.\n",
              "      quickchartButtonEl.classList.add('colab-df-spinner');\n",
              "      try {\n",
              "        const charts = await google.colab.kernel.invokeFunction(\n",
              "            'suggestCharts', [key], {});\n",
              "      } catch (error) {\n",
              "        console.error('Error during call to suggestCharts:', error);\n",
              "      }\n",
              "      quickchartButtonEl.classList.remove('colab-df-spinner');\n",
              "      quickchartButtonEl.classList.add('colab-df-quickchart-complete');\n",
              "    }\n",
              "    (() => {\n",
              "      let quickchartButtonEl =\n",
              "        document.querySelector('#df-303f93e8-813c-4515-9868-9cec38638ec1 button');\n",
              "      quickchartButtonEl.style.display =\n",
              "        google.colab.kernel.accessAllowed ? 'block' : 'none';\n",
              "    })();\n",
              "  </script>\n",
              "</div>\n",
              "\n",
              "    </div>\n",
              "  </div>\n"
            ],
            "application/vnd.google.colaboratory.intrinsic+json": {
              "type": "dataframe",
              "variable_name": "pd_data"
            }
          },
          "metadata": {},
          "execution_count": 4
        }
      ]
    },
    {
      "cell_type": "code",
      "source": [
        "pd_features = pd_data.drop(['name','status'], axis=1).values\n",
        "pd_target = pd_data['status'].values"
      ],
      "metadata": {
        "id": "dsy9YMMBAZN1"
      },
      "execution_count": null,
      "outputs": []
    },
    {
      "cell_type": "code",
      "source": [
        "#Different train-test data splits for models\n",
        "splits = [\n",
        "    ('70-30', 0.3),\n",
        "    ('80-20', 0.2),\n",
        "    ('90-10', 0.1)\n",
        "]\n",
        "result_split=[\"70-30\",\"80-20\",\"90-10\"]"
      ],
      "metadata": {
        "id": "eqHqhL9hBl_c"
      },
      "execution_count": null,
      "outputs": []
    },
    {
      "cell_type": "markdown",
      "source": [
        "# Logistic Regression (Forrest Wright)"
      ],
      "metadata": {
        "id": "E6K_lBT76s8F"
      }
    },
    {
      "cell_type": "code",
      "source": [
        "# Logistic Regression Model (Forrest Wright)\n",
        "from sklearn.linear_model import LogisticRegression\n",
        "# Initialize and fit Logistic Regression model\n",
        "pd_lr = LogisticRegression(random_state=42, max_iter=2000, class_weight='balanced')\n",
        "\n",
        "# Parameters for Logistic Regression\n",
        "param_lr = {\n",
        "    'penalty': ['l2'],\n",
        "    'C': [0.1, 1, 10],\n",
        "    'solver': ['lbfgs', 'liblinear']\n",
        "}\n",
        "\n",
        "# List to store F1 and Accuracy scores\n",
        "resultsAcc_lr = []\n",
        "resultsF1_lr = []\n",
        "\n",
        "for split_name, test_ratio in splits:\n",
        "  pd_train_ftrs, pd_test_ftrs, pd_train_tgt, pd_test_tgt = train_test_split(pd_features, pd_target,\n",
        "                                                                          test_size=test_ratio, random_state=0)\n",
        "  scaler = StandardScaler()\n",
        "  pd_train_ftrs = scaler.fit_transform(pd_train_ftrs)\n",
        "  pd_test_ftrs = scaler.transform(pd_test_ftrs)\n",
        "\n",
        "# Perform GridSearchCV\n",
        "  grid_pd_lr = GridSearchCV(\n",
        "        estimator=pd_lr,\n",
        "        param_grid=param_lr,\n",
        "        scoring='accuracy',  # Metric to optimize\n",
        "        cv=5,                # Cross-validation folds\n",
        "        n_jobs=-1\n",
        "    )\n",
        "  pd_lr_tuned = grid_pd_lr.fit(pd_train_ftrs, pd_train_tgt)\n",
        "# Make predictions\n",
        "  pd_lr_pred = pd_lr_tuned.best_estimator_.predict(pd_test_ftrs)\n",
        "\n",
        "# Evaluation\n",
        "  print(f\"\\nLogistic Regression Test Set Classification Report ({split_name}):\")\n",
        "  print(metrics.classification_report(pd_test_tgt, pd_lr_pred))\n",
        "  print(\"\\nLogistic Regression Test Set Accuracy Score\")\n",
        "  print(metrics.accuracy_score(pd_test_tgt, pd_lr_pred))\n",
        "  print(\"\\nLogistic Regression Test Set F1 Score\")\n",
        "  print(metrics.f1_score(pd_test_tgt, pd_lr_pred))\n",
        "\n",
        "\n",
        "  resultsF1_lr.append(metrics.f1_score(pd_test_tgt, pd_lr_pred))\n",
        "  resultsAcc_lr.append(metrics.accuracy_score(pd_test_tgt, pd_lr_pred))\n",
        "\n",
        "# Variable for comparing highest-scoring split of the model\n",
        "lr_best_split = [resultsF1_lr[0], resultsAcc_lr[0]]\n",
        "\n"
      ],
      "metadata": {
        "id": "qd3NTIP6_FRW",
        "colab": {
          "base_uri": "https://localhost:8080/"
        },
        "outputId": "f76127e6-291c-4b22-a34a-d29d9eba2dc4"
      },
      "execution_count": null,
      "outputs": [
        {
          "output_type": "stream",
          "name": "stdout",
          "text": [
            "\n",
            "Logistic Regression Test Set Classification Report (70-30):\n",
            "              precision    recall  f1-score   support\n",
            "\n",
            "           0       0.50      0.69      0.58        13\n",
            "           1       0.90      0.80      0.85        46\n",
            "\n",
            "    accuracy                           0.78        59\n",
            "   macro avg       0.70      0.75      0.72        59\n",
            "weighted avg       0.81      0.78      0.79        59\n",
            "\n",
            "\n",
            "Logistic Regression Test Set Accuracy Score\n",
            "0.7796610169491526\n",
            "\n",
            "Logistic Regression Test Set F1 Score\n",
            "0.8505747126436781\n",
            "\n",
            "Logistic Regression Test Set Classification Report (80-20):\n",
            "              precision    recall  f1-score   support\n",
            "\n",
            "           0       0.47      0.70      0.56        10\n",
            "           1       0.88      0.72      0.79        29\n",
            "\n",
            "    accuracy                           0.72        39\n",
            "   macro avg       0.67      0.71      0.68        39\n",
            "weighted avg       0.77      0.72      0.73        39\n",
            "\n",
            "\n",
            "Logistic Regression Test Set Accuracy Score\n",
            "0.717948717948718\n",
            "\n",
            "Logistic Regression Test Set F1 Score\n",
            "0.7924528301886793\n",
            "\n",
            "Logistic Regression Test Set Classification Report (90-10):\n",
            "              precision    recall  f1-score   support\n",
            "\n",
            "           0       0.36      0.80      0.50         5\n",
            "           1       0.89      0.53      0.67        15\n",
            "\n",
            "    accuracy                           0.60        20\n",
            "   macro avg       0.63      0.67      0.58        20\n",
            "weighted avg       0.76      0.60      0.62        20\n",
            "\n",
            "\n",
            "Logistic Regression Test Set Accuracy Score\n",
            "0.6\n",
            "\n",
            "Logistic Regression Test Set F1 Score\n",
            "0.6666666666666666\n"
          ]
        }
      ]
    },
    {
      "cell_type": "code",
      "source": [
        "plt.bar(result_split, resultsF1_lr, color='blue', width=0.4)\n",
        "plt.ylabel(\"F1 Score\")\n",
        "plt.xlabel(\"Data Split\")\n",
        "plt.title(\"F1 Scores Logistic Regression\")\n",
        "plt.show()"
      ],
      "metadata": {
        "colab": {
          "base_uri": "https://localhost:8080/",
          "height": 472
        },
        "id": "leJX0Jr0y_Fo",
        "outputId": "f4c5e8ff-7eb5-4aa3-f791-d536d44400c6",
        "collapsed": true
      },
      "execution_count": null,
      "outputs": [
        {
          "output_type": "display_data",
          "data": {
            "text/plain": [
              "<Figure size 640x480 with 1 Axes>"
            ],
            "image/png": "[encoded data removed]"
          },
          "metadata": {}
        }
      ]
    },
    {
      "cell_type": "code",
      "source": [
        "plt.bar(result_split, resultsAcc_lr, color='green', width=0.4)\n",
        "plt.ylabel(\"Accuracy Score\")\n",
        "plt.xlabel(\"Data Split\")\n",
        "plt.title(\"Accuracy Scores Logistic Regression\")\n",
        "plt.show()"
      ],
      "metadata": {
        "colab": {
          "base_uri": "https://localhost:8080/",
          "height": 472
        },
        "id": "JW0rcp9pVLmz",
        "outputId": "b6e59930-114d-4432-9173-cea9f09abba0",
        "collapsed": true
      },
      "execution_count": null,
      "outputs": [
        {
          "output_type": "display_data",
          "data": {
            "text/plain": [
              "<Figure size 640x480 with 1 Axes>"
            ],
            "image/png": "[encoded data removed]"
          },
          "metadata": {}
        }
      ]
    },
    {
      "cell_type": "code",
      "source": [
        "# @title Random Forest (Kenderth Calzadilla))\n"
      ],
      "metadata": {
        "cellView": "form",
        "id": "i56LBmnZN5Ir"
      },
      "execution_count": null,
      "outputs": []
    },
    {
      "cell_type": "code",
      "source": [
        "#Library for Random Forest\n",
        "from sklearn.ensemble import RandomForestClassifier"
      ],
      "metadata": {
        "id": "lRA45YXMO7ER"
      },
      "execution_count": null,
      "outputs": []
    },
    {
      "cell_type": "code",
      "source": [
        "#Initializing RandomForest model and fitting data\n",
        "pd_rf = RandomForestClassifier(random_state=42)\n",
        "\n",
        "# List to store Accuracy/F1 scores between models\n",
        "resultsAcc_rf = []\n",
        "resultsF1_rf = []\n",
        "\n",
        "for split_name, split_ratio in splits:\n",
        "    pd_train_ftrs, pd_test_ftrs, pd_train_tgt, pd_test_tgt = train_test_split(pd_features, pd_target,\n",
        "                                                                              test_size=split_ratio, random_state=42)\n",
        "    pd_rf.fit(pd_train_ftrs, pd_train_tgt)\n",
        "    pd_rf_pred = pd_rf.predict(pd_test_ftrs)\n",
        "\n",
        "    print(f\"\\n Random Forest split: {split_name}\" )\n",
        "    print(\"\\nRandom Forest Test Set Classification Report\")\n",
        "    print(metrics.classification_report(pd_test_tgt, pd_rf_pred))\n",
        "    print(\"\\nRandom Forest Test Set Accuracy Score\")\n",
        "    print(metrics.accuracy_score(pd_test_tgt, pd_rf_pred))\n",
        "\n",
        "    print(\"\\nRandom Forest Test Set F1 Score\")\n",
        "    print(metrics.f1_score(pd_test_tgt, pd_rf_pred))\n",
        "\n",
        "\n",
        "    resultsF1_rf.append(metrics.f1_score(pd_test_tgt, pd_rf_pred))\n",
        "    resultsAcc_rf.append(metrics.accuracy_score(pd_test_tgt, pd_rf_pred))\n",
        "    # Extracting data for confusion matrix of best split\n",
        "    if (split_ratio == 0.2):\n",
        "      cm_test_tgt = pd_test_tgt\n",
        "      cm_pred = pd_rf_pred\n",
        "\n",
        "# Variable for comparing highest-scoring split of the model\n",
        "rf_best_split = [resultsF1_rf[1], resultsAcc_rf[1]]"
      ],
      "metadata": {
        "colab": {
          "base_uri": "https://localhost:8080/"
        },
        "id": "Y_DGOcL0PFH4",
        "outputId": "273be7fc-8eac-4d67-c4f3-12b12f58245f",
        "collapsed": true
      },
      "execution_count": null,
      "outputs": [
        {
          "output_type": "stream",
          "name": "stdout",
          "text": [
            "\n",
            " Random Forest split: 70-30\n",
            "\n",
            "Random Forest Test Set Classification Report\n",
            "              precision    recall  f1-score   support\n",
            "\n",
            "           0       0.92      0.80      0.86        15\n",
            "           1       0.93      0.98      0.96        44\n",
            "\n",
            "    accuracy                           0.93        59\n",
            "   macro avg       0.93      0.89      0.91        59\n",
            "weighted avg       0.93      0.93      0.93        59\n",
            "\n",
            "\n",
            "Random Forest Test Set Accuracy Score\n",
            "0.9322033898305084\n",
            "\n",
            "Random Forest Test Set F1 Score\n",
            "0.9555555555555556\n",
            "\n",
            " Random Forest split: 80-20\n",
            "\n",
            "Random Forest Test Set Classification Report\n",
            "              precision    recall  f1-score   support\n",
            "\n",
            "           0       1.00      0.71      0.83         7\n",
            "           1       0.94      1.00      0.97        32\n",
            "\n",
            "    accuracy                           0.95        39\n",
            "   macro avg       0.97      0.86      0.90        39\n",
            "weighted avg       0.95      0.95      0.95        39\n",
            "\n",
            "\n",
            "Random Forest Test Set Accuracy Score\n",
            "0.9487179487179487\n",
            "\n",
            "Random Forest Test Set F1 Score\n",
            "0.9696969696969697\n",
            "\n",
            " Random Forest split: 90-10\n",
            "\n",
            "Random Forest Test Set Classification Report\n",
            "              precision    recall  f1-score   support\n",
            "\n",
            "           0       0.50      0.50      0.50         2\n",
            "           1       0.94      0.94      0.94        18\n",
            "\n",
            "    accuracy                           0.90        20\n",
            "   macro avg       0.72      0.72      0.72        20\n",
            "weighted avg       0.90      0.90      0.90        20\n",
            "\n",
            "\n",
            "Random Forest Test Set Accuracy Score\n",
            "0.9\n",
            "\n",
            "Random Forest Test Set F1 Score\n",
            "0.9444444444444444\n"
          ]
        }
      ]
    },
    {
      "cell_type": "code",
      "source": [
        "result_split=[\"70-30\",\"80-20\",\"90-10\"]\n",
        "plt.bar(result_split, resultsF1_rf, color='blue', width=0.4)\n",
        "plt.ylabel(\"F1 Score\")\n",
        "plt.xlabel(\"Data Split\")\n",
        "plt.title(\"F1 Scores random forest\")\n",
        "plt.show()"
      ],
      "metadata": {
        "id": "0sdeI2vEQ4ba",
        "colab": {
          "base_uri": "https://localhost:8080/",
          "height": 472
        },
        "outputId": "ca263084-0e83-4e34-e213-2a6619662066"
      },
      "execution_count": null,
      "outputs": [
        {
          "output_type": "display_data",
          "data": {
            "text/plain": [
              "<Figure size 640x480 with 1 Axes>"
            ],
            "image/png": "[encoded data removed]"
          },
          "metadata": {}
        }
      ]
    },
    {
      "cell_type": "code",
      "source": [
        "result_split=[\"70-30\",\"80-20\",\"90-10\"]\n",
        "plt.bar(result_split, resultsAcc_rf, color='green', width=0.4)\n",
        "plt.ylabel(\"Accuracy\")\n",
        "plt.xlabel(\"Data Split\")\n",
        "plt.title(\"Accuracy Score random forest \")\n",
        "plt.show()"
      ],
      "metadata": {
        "id": "CyNQTD1HSPeo",
        "colab": {
          "base_uri": "https://localhost:8080/",
          "height": 472
        },
        "outputId": "f6e1069d-a9ee-49bb-de60-8aadb2b8074e"
      },
      "execution_count": null,
      "outputs": [
        {
          "output_type": "display_data",
          "data": {
            "text/plain": [
              "<Figure size 640x480 with 1 Axes>"
            ],
            "image/png": "[encoded data removed]"
          },
          "metadata": {}
        }
      ]
    },
    {
      "cell_type": "markdown",
      "source": [
        "# Random Forest Hyper parameter Tuning Fail"
      ],
      "metadata": {
        "id": "rnTGrJwQ6vj9"
      }
    },
    {
      "cell_type": "code",
      "source": [
        "#Library for Random Forest\n",
        "#from sklearn.ensemble import RandomForestClassifier\n",
        "\n",
        "\n",
        "#Initializing RandomForest model and fitting data\n",
        "#pd_rf = RandomForestClassifier(random_state=42)\n",
        "\n",
        "#param_rf = {\n",
        "#    'n_estimators': np.arange(1, 50,10),\n",
        "#    'max_depth': [None, 10, 20, 30],\n",
        "#    'min_samples_split': np.arange(2, 11,1),\n",
        "#    'min_samples_leaf': np.arange(1, 5, 1),\n",
        "#    'max_features': ['sqrt', 'log2', None]\n",
        "#}\n",
        "\n",
        "#for split_name, test_ratio in splits:\n",
        "#  pd_train_ftrs, pd_test_ftrs, pd_train_tgt, pd_test_tgt = train_test_split(pd_features, pd_target,\n",
        "#                                                                         test_size=test_ratio, random_state=0)\n",
        "#  scaler = StandardScaler()\n",
        "#  pd_train_ftrs = scaler.fit_transform(pd_train_ftrs)\n",
        "#  pd_test_ftrs = scaler.transform(pd_test_ftrs)\n",
        "\n",
        "# GridSearchCV for Random Forest\n",
        "#  grid_pd_rf = GridSearchCV(\n",
        "#    estimator=pd_rf,\n",
        "#    param_grid=param_rf,\n",
        "#    scoring='accuracy',\n",
        "#    cv=5,\n",
        "#    n_jobs=-1\n",
        "#)\n",
        "\n",
        " # pd_rf = grid_pd_rf.fit(pd_train_ftrs, pd_train_tgt)\n",
        "\n",
        "  #Make prediction\n",
        "#  pd_rf_pred = pd_rf.best_estimator.predict(pd_test_ftrs)\n",
        "#\n",
        "#  print(f\"Random Forest Results for Split: {split_name}\")\n",
        "\n",
        "#  print(\"Random Forest Test Set Classification Report\")\n",
        "#  print(metrics.classification_report(pd_test_tgt, pd_rf_pred))\n",
        "\n",
        "#  print(\"\\nRandom Forest Test Set Accuracy Score\")\n",
        "#  print(metrics.accuracy_score(pd_test_tgt, pd_rf_pred))\n",
        "\n",
        "#  print(\"\\nRandom Forest Test Set F1 Score\")\n",
        "#  print(metrics.f1_score(pd_test_tgt, pd_rf_pred))"
      ],
      "metadata": {
        "id": "Z08Y3aN_66wZ"
      },
      "execution_count": null,
      "outputs": []
    },
    {
      "cell_type": "markdown",
      "source": [
        "# K-Nearest Neighbor (Sam Bordelon)"
      ],
      "metadata": {
        "id": "yb8fGZE46xiM"
      }
    },
    {
      "cell_type": "code",
      "source": [
        "# Importing K-Nearest Neighbor from library\n",
        "from sklearn.neighbors import KNeighborsClassifier\n",
        "\n",
        "# Initializing and fitting the KNN model, the default number of neighbors is 5\n",
        "pd_knn = KNeighborsClassifier()\n",
        "\n",
        "# List to store F1/Accuracy scores between models\n",
        "resultsAcc_knn = []\n",
        "resultsF1_knn = []\n",
        "\n",
        "for split_name ,split_ratio in splits:\n",
        "    pd_train_ftrs, pd_test_ftrs, pd_train_tgt, pd_test_tgt = train_test_split(pd_features, pd_target,\n",
        "                                                                              test_size=split_ratio, random_state=42)\n",
        "    pd_knn.fit(pd_train_ftrs, pd_train_tgt)\n",
        "    pd_knn_pred = pd_knn.predict(pd_test_ftrs)\n",
        "\n",
        "    print(f\"\\nKNN Results for Split: {split_name}\")\n",
        "    print(\"\\nK-Nearest Neighbor Test Set Classification Report\")\n",
        "    print(metrics.classification_report(pd_test_tgt, pd_knn_pred))\n",
        "\n",
        "    print(\"\\nK-Nearest Neighbor Test Set Accuracy Score\")\n",
        "    print(metrics.accuracy_score(pd_test_tgt, pd_knn_pred))\n",
        "\n",
        "    print(\"\\nK-Nearest Neighbor Test Set F1 Score\")\n",
        "    print(metrics.f1_score(pd_test_tgt, pd_knn_pred))\n",
        "\n",
        "    # List to store F1 scores between models\n",
        "\n",
        "    resultsF1_knn.append(metrics.f1_score(pd_test_tgt, pd_knn_pred))\n",
        "    resultsAcc_knn.append(metrics.accuracy_score(pd_test_tgt, pd_knn_pred))\n",
        "\n",
        "# Variable for comparing highest-scoring split of the model\n",
        "knn_best_split = [resultsF1_knn[0], resultsAcc_knn[0]]"
      ],
      "metadata": {
        "id": "WJ2uZB0T617V",
        "colab": {
          "base_uri": "https://localhost:8080/"
        },
        "outputId": "6cbce837-07ad-479a-affb-c71ee09bd901"
      },
      "execution_count": null,
      "outputs": [
        {
          "output_type": "stream",
          "name": "stdout",
          "text": [
            "\n",
            "KNN Results for Split: 70-30\n",
            "\n",
            "K-Nearest Neighbor Test Set Classification Report\n",
            "              precision    recall  f1-score   support\n",
            "\n",
            "           0       0.73      0.53      0.62        15\n",
            "           1       0.85      0.93      0.89        44\n",
            "\n",
            "    accuracy                           0.83        59\n",
            "   macro avg       0.79      0.73      0.75        59\n",
            "weighted avg       0.82      0.83      0.82        59\n",
            "\n",
            "\n",
            "K-Nearest Neighbor Test Set Accuracy Score\n",
            "0.8305084745762712\n",
            "\n",
            "K-Nearest Neighbor Test Set F1 Score\n",
            "0.8913043478260869\n",
            "\n",
            "KNN Results for Split: 80-20\n",
            "\n",
            "K-Nearest Neighbor Test Set Classification Report\n",
            "              precision    recall  f1-score   support\n",
            "\n",
            "           0       0.50      0.43      0.46         7\n",
            "           1       0.88      0.91      0.89        32\n",
            "\n",
            "    accuracy                           0.82        39\n",
            "   macro avg       0.69      0.67      0.68        39\n",
            "weighted avg       0.81      0.82      0.81        39\n",
            "\n",
            "\n",
            "K-Nearest Neighbor Test Set Accuracy Score\n",
            "0.8205128205128205\n",
            "\n",
            "K-Nearest Neighbor Test Set F1 Score\n",
            "0.8923076923076924\n",
            "\n",
            "KNN Results for Split: 90-10\n",
            "\n",
            "K-Nearest Neighbor Test Set Classification Report\n",
            "              precision    recall  f1-score   support\n",
            "\n",
            "           0       0.00      0.00      0.00         2\n",
            "           1       0.88      0.83      0.86        18\n",
            "\n",
            "    accuracy                           0.75        20\n",
            "   macro avg       0.44      0.42      0.43        20\n",
            "weighted avg       0.79      0.75      0.77        20\n",
            "\n",
            "\n",
            "K-Nearest Neighbor Test Set Accuracy Score\n",
            "0.75\n",
            "\n",
            "K-Nearest Neighbor Test Set F1 Score\n",
            "0.8571428571428571\n"
          ]
        }
      ]
    },
    {
      "cell_type": "code",
      "source": [
        "result_split=[\"70-30\",\"80-20\",\"90-10\"]\n",
        "plt.bar(result_split, resultsF1_knn, color='blue', width=0.4)\n",
        "plt.ylabel(\"F1 Score\")\n",
        "plt.xlabel(\"Data Split\")\n",
        "plt.title(\"F1 Scores KNN\")\n",
        "plt.show()"
      ],
      "metadata": {
        "id": "9LNloHQXXx8y",
        "colab": {
          "base_uri": "https://localhost:8080/",
          "height": 472
        },
        "outputId": "82c395cd-3e24-4018-f228-5262dc8e452e"
      },
      "execution_count": null,
      "outputs": [
        {
          "output_type": "display_data",
          "data": {
            "text/plain": [
              "<Figure size 640x480 with 1 Axes>"
            ],
            "image/png": "[encoded data removed]"
          },
          "metadata": {}
        }
      ]
    },
    {
      "cell_type": "code",
      "source": [
        "result_split=[\"70-30\",\"80-20\",\"90-10\"]\n",
        "plt.bar(result_split, resultsAcc_knn, color='green', width=0.4)\n",
        "plt.ylabel(\"Accuracy\")\n",
        "plt.xlabel(\"Data Split\")\n",
        "plt.title(\"Accuracy Score KNN\")\n",
        "plt.show()\n",
        "\n",
        "\n"
      ],
      "metadata": {
        "id": "uiIC3cscECxt",
        "colab": {
          "base_uri": "https://localhost:8080/",
          "height": 472
        },
        "outputId": "e3af1f7f-6bd7-440f-a5b9-03a76cb0c9cb"
      },
      "execution_count": null,
      "outputs": [
        {
          "output_type": "display_data",
          "data": {
            "text/plain": [
              "<Figure size 640x480 with 1 Axes>"
            ],
            "image/png": "[encoded data removed]"
          },
          "metadata": {}
        }
      ]
    },
    {
      "cell_type": "code",
      "source": [],
      "metadata": {
        "id": "OJlc2LwBEPzm"
      },
      "execution_count": null,
      "outputs": []
    },
    {
      "cell_type": "code",
      "source": [
        "# @title KNN -Hyper Parameter Tuning(Fail)\n",
        "#param_knn = {'n_neighbors': [3, 5, 7], 'weights': ['uniform', 'distance'],'metric': ['euclidean', 'manhattan', 'chebyshev'],'algorithm': ['auto', 'ball_tree', 'kd_tree', 'brute']\n",
        "#}\n",
        "\n",
        "\n",
        "#for split_name, test_ratio in splits:\n",
        "# pd_train_ftrs, pd_test_ftrs, pd_train_tgt, pd_test_tgt = train_test_split(pd_features, pd_target, test_size=test_ratio, random_state=0)\n",
        "#  scaler = StandardScaler()\n",
        "#  pd_train_ftrs = scaler.fit_transform(pd_train_ftrs)\n",
        "#  pd_test_ftrs = scaler.transform(pd_test_ftrs)\n",
        "\n",
        "#  grid_knn = GridSearchCV(estimator=pd_knn, param_grid=param_knn, scoring='accuracy', cv=5, n_jobs=-1)\n",
        "#  grid_knn = grid_knn.fit(pd_train_ftrs, pd_train_tgt)\n",
        "#  pd_knn_pred = pd_knn.best_estimator_.predict(pd_test_ftrs)\n",
        "\n",
        "\n",
        "#  print(\"K-Nearest Neighbor Test Set Classification Report\")\n",
        "#  print(f\"KNN Results for Split: {split_name}\")\n",
        "#  print(metrics.classification_report(pd_test_tgt, pd_knn_pred))\n",
        "#  print(\"\\nK-Nearest Neighbor Test Set Accuracy Score\")\n",
        "#  print(metrics.accuracy_score(pd_test_tgt, pd_knn_pred))\n",
        "#  print(\"\\nK-Nearest Neighbor Test Set F1 Score\")\n",
        "#  print(metrics.f1_score(pd_test_tgt, pd_knn_pred))"
      ],
      "metadata": {
        "id": "z-pSNzfDEbPH",
        "cellView": "form"
      },
      "execution_count": null,
      "outputs": []
    },
    {
      "cell_type": "markdown",
      "source": [
        "# Model Prediction Analysis"
      ],
      "metadata": {
        "id": "IUpoOc_xXQ-L"
      }
    },
    {
      "cell_type": "code",
      "source": [
        "# Graphs comparing models to each other"
      ],
      "metadata": {
        "id": "o65WHs_aXWtw"
      },
      "execution_count": null,
      "outputs": []
    },
    {
      "cell_type": "code",
      "source": [
        "model_f1_scores = (rf_best_split[0], knn_best_split[0], lr_best_split[0])\n",
        "model_accuracy_scores = (rf_best_split[1], knn_best_split[1], lr_best_split[1])\n",
        "models = ('Random Forest' ,'K-Nearest Neighbor', 'Logistic Regression')"
      ],
      "metadata": {
        "id": "114D7kqQbis5"
      },
      "execution_count": null,
      "outputs": []
    },
    {
      "cell_type": "code",
      "source": [
        "plt.bar(models, model_f1_scores, color='blue', width=0.4)\n",
        "plt.xlabel(\"Classification Model\")\n",
        "plt.ylabel(\"F1 Score\")\n",
        "plt.title(\"F1 Scores of Prediction Models\")\n",
        "plt.show()\n"
      ],
      "metadata": {
        "id": "cPZUtnX1ePA8",
        "colab": {
          "base_uri": "https://localhost:8080/",
          "height": 472
        },
        "outputId": "54036d56-78bb-4df5-933d-6fde7d31cfe5"
      },
      "execution_count": null,
      "outputs": [
        {
          "output_type": "display_data",
          "data": {
            "text/plain": [
              "<Figure size 640x480 with 1 Axes>"
            ],
            "image/png": "[encoded data removed]"
          },
          "metadata": {}
        }
      ]
    },
    {
      "cell_type": "code",
      "source": [
        "plt.bar(models, model_accuracy_scores, color='grey', width=0.4)\n",
        "plt.xlabel(\"Classification Model\")\n",
        "plt.ylabel(\"Accuracy Score\")\n",
        "plt.title(\"Accuracy Scores of Prediction Models\")\n",
        "plt.show()"
      ],
      "metadata": {
        "id": "ZmNTEAWzf_N3",
        "colab": {
          "base_uri": "https://localhost:8080/",
          "height": 472
        },
        "outputId": "cbddfb36-c8e5-40cb-cb8a-b40b885b8048"
      },
      "execution_count": null,
      "outputs": [
        {
          "output_type": "display_data",
          "data": {
            "text/plain": [
              "<Figure size 640x480 with 1 Axes>"
            ],
            "image/png": "[encoded data removed]"
          },
          "metadata": {}
        }
      ]
    },
    {
      "cell_type": "code",
      "source": [
        "# Confusion matrix for best overall model (Random Forest 80-20 Split)\n",
        "from sklearn.metrics import confusion_matrix\n",
        "from sklearn.metrics import ConfusionMatrixDisplay\n",
        "\n",
        "best_matrix = confusion_matrix(cm_test_tgt, cm_pred)\n",
        "display = ConfusionMatrixDisplay(confusion_matrix=best_matrix)\n",
        "display.plot()\n",
        "plt.show()"
      ],
      "metadata": {
        "id": "3r0sTRasq0KN",
        "colab": {
          "base_uri": "https://localhost:8080/",
          "height": 449
        },
        "outputId": "454a04ca-7c5a-4f8a-dabe-6b929a8df995"
      },
      "execution_count": null,
      "outputs": [
        {
          "output_type": "display_data",
          "data": {
            "text/plain": [
              "<Figure size 640x480 with 2 Axes>"
            ],
            "image/png": "[encoded data removed]"
          },
          "metadata": {}
        }
      ]
    }
  ]
}